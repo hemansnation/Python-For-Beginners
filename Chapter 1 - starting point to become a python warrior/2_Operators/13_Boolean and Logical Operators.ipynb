{
 "cells": [
  {
   "cell_type": "markdown",
   "id": "2b42139a",
   "metadata": {},
   "source": [
    "# Boolean and Logical Operators\n",
    "\n",
    "Watch the video in 1.5x speed for better experience.\n"
   ]
  },
  {
   "cell_type": "code",
   "execution_count": null,
   "id": "601149c9",
   "metadata": {},
   "outputs": [],
   "source": [
    "# boolean operators\n",
    "\n",
    "True\n",
    "\n",
    "False\n"
   ]
  },
  {
   "cell_type": "code",
   "execution_count": null,
   "id": "322a34f8",
   "metadata": {},
   "outputs": [],
   "source": [
    "# logical operators\n",
    "\n",
    "not\n",
    "and\n",
    "or"
   ]
  },
  {
   "cell_type": "code",
   "execution_count": 1,
   "id": "7ab82743",
   "metadata": {},
   "outputs": [
    {
     "name": "stdout",
     "output_type": "stream",
     "text": [
      "False\n"
     ]
    }
   ],
   "source": [
    "print(not True)"
   ]
  },
  {
   "cell_type": "code",
   "execution_count": 2,
   "id": "e70fddaf",
   "metadata": {},
   "outputs": [
    {
     "name": "stdout",
     "output_type": "stream",
     "text": [
      "True\n"
     ]
    }
   ],
   "source": [
    "print(not False)"
   ]
  },
  {
   "cell_type": "code",
   "execution_count": 3,
   "id": "266908ee",
   "metadata": {},
   "outputs": [
    {
     "ename": "SyntaxError",
     "evalue": "invalid syntax (941600843.py, line 1)",
     "output_type": "error",
     "traceback": [
      "\u001b[1;36m  Input \u001b[1;32mIn [3]\u001b[1;36m\u001b[0m\n\u001b[1;33m    print(False not)\u001b[0m\n\u001b[1;37m                   ^\u001b[0m\n\u001b[1;31mSyntaxError\u001b[0m\u001b[1;31m:\u001b[0m invalid syntax\n"
     ]
    }
   ],
   "source": [
    "print(False not)"
   ]
  },
  {
   "cell_type": "code",
   "execution_count": null,
   "id": "979c50d5",
   "metadata": {},
   "outputs": [],
   "source": [
    "# truth table for and\n",
    "0 = False, 1 = True\n",
    "\n",
    "False and False = False\n",
    "False and True = False\n",
    "True and False = False\n",
    "True and True = True"
   ]
  },
  {
   "cell_type": "code",
   "execution_count": 4,
   "id": "936c2a02",
   "metadata": {},
   "outputs": [
    {
     "name": "stdout",
     "output_type": "stream",
     "text": [
      "False\n"
     ]
    }
   ],
   "source": [
    "print(False and True)"
   ]
  },
  {
   "cell_type": "code",
   "execution_count": 5,
   "id": "ec650747",
   "metadata": {},
   "outputs": [
    {
     "name": "stdout",
     "output_type": "stream",
     "text": [
      "False\n"
     ]
    }
   ],
   "source": [
    "print(False and True and False and True)"
   ]
  },
  {
   "cell_type": "code",
   "execution_count": null,
   "id": "25af6191",
   "metadata": {},
   "outputs": [],
   "source": [
    "# truth table for or\n",
    "0 = False, 1 = True\n",
    "\n",
    "False or False = False\n",
    "False or True = True\n",
    "True or False = True\n",
    "True or True = True"
   ]
  },
  {
   "cell_type": "code",
   "execution_count": 6,
   "id": "e45a60b7",
   "metadata": {},
   "outputs": [
    {
     "name": "stdout",
     "output_type": "stream",
     "text": [
      "True\n"
     ]
    }
   ],
   "source": [
    "print(True or False or True or False or False)"
   ]
  },
  {
   "cell_type": "markdown",
   "id": "1f87798b",
   "metadata": {},
   "source": [
    "## Combine all the logical operators in a Question"
   ]
  },
  {
   "cell_type": "code",
   "execution_count": null,
   "id": "6ab9fe23",
   "metadata": {},
   "outputs": [],
   "source": [
    "# priority\n",
    "\n",
    "1. not\n",
    "2. and\n",
    "3. or"
   ]
  },
  {
   "cell_type": "code",
   "execution_count": 7,
   "id": "f576c7a4",
   "metadata": {},
   "outputs": [
    {
     "name": "stdout",
     "output_type": "stream",
     "text": [
      "True\n"
     ]
    }
   ],
   "source": [
    "print(False and not True or False and not False or True and not False and True)\n",
    "#                  False                 True                 True\n",
    "#         False                   False                   True\n",
    "#                                                              True\n",
    "# True"
   ]
  },
  {
   "cell_type": "code",
   "execution_count": null,
   "id": "594098c2",
   "metadata": {},
   "outputs": [],
   "source": []
  }
 ],
 "metadata": {
  "kernelspec": {
   "display_name": "Python 3 (ipykernel)",
   "language": "python",
   "name": "python3"
  },
  "language_info": {
   "codemirror_mode": {
    "name": "ipython",
    "version": 3
   },
   "file_extension": ".py",
   "mimetype": "text/x-python",
   "name": "python",
   "nbconvert_exporter": "python",
   "pygments_lexer": "ipython3",
   "version": "3.9.12"
  }
 },
 "nbformat": 4,
 "nbformat_minor": 5
}
