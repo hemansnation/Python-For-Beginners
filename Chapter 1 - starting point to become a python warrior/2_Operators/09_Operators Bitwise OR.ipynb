{
 "cells": [
  {
   "cell_type": "markdown",
   "id": "e421d0b6",
   "metadata": {},
   "source": [
    "# Bitwise OR"
   ]
  },
  {
   "cell_type": "code",
   "execution_count": null,
   "id": "b1e9270b",
   "metadata": {},
   "outputs": [],
   "source": [
    "& -> bitwise and\n",
    "| -> bitwise or\n",
    "^ -> bitwise xor\n",
    "<<  -> bitwise leftshift\n",
    ">>  -> bitwise rightshift"
   ]
  },
  {
   "cell_type": "code",
   "execution_count": 1,
   "id": "892f9fea",
   "metadata": {},
   "outputs": [
    {
     "name": "stdout",
     "output_type": "stream",
     "text": [
      "10\n"
     ]
    }
   ],
   "source": [
    "print(10 | 8)"
   ]
  },
  {
   "cell_type": "code",
   "execution_count": null,
   "id": "7c530d50",
   "metadata": {},
   "outputs": [],
   "source": [
    "1024    512    256    128    64    32    16    8    4    2    1\n",
    "                                               1    0    1    0\n",
    "                                               1    0    0    0\n",
    "                                          1    0    1    1    0\n",
    "                                          1    0    1    1    1"
   ]
  },
  {
   "cell_type": "code",
   "execution_count": null,
   "id": "d345f350",
   "metadata": {},
   "outputs": [],
   "source": [
    "truth table\n",
    "|\n",
    "0 | 0 -> 0\n",
    "0 | 1 -> 1\n",
    "1 | 0 -> 1\n",
    "1 | 1 -> 1"
   ]
  },
  {
   "cell_type": "code",
   "execution_count": null,
   "id": "366eec9c",
   "metadata": {},
   "outputs": [],
   "source": [
    "1010\n",
    "1000  |\n",
    "1010"
   ]
  },
  {
   "cell_type": "code",
   "execution_count": 2,
   "id": "d7cc28dd",
   "metadata": {},
   "outputs": [
    {
     "name": "stdout",
     "output_type": "stream",
     "text": [
      "23\n"
     ]
    }
   ],
   "source": [
    "print(17 | 22)"
   ]
  },
  {
   "cell_type": "code",
   "execution_count": null,
   "id": "c24ce992",
   "metadata": {},
   "outputs": [],
   "source": [
    "10001\n",
    "10110  |\n",
    "10111        ---> 23"
   ]
  }
 ],
 "metadata": {
  "kernelspec": {
   "display_name": "Python 3 (ipykernel)",
   "language": "python",
   "name": "python3"
  },
  "language_info": {
   "codemirror_mode": {
    "name": "ipython",
    "version": 3
   },
   "file_extension": ".py",
   "mimetype": "text/x-python",
   "name": "python",
   "nbconvert_exporter": "python",
   "pygments_lexer": "ipython3",
   "version": "3.9.12"
  }
 },
 "nbformat": 4,
 "nbformat_minor": 5
}
