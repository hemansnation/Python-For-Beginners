{
 "cells": [
  {
   "cell_type": "markdown",
   "id": "2392476f",
   "metadata": {},
   "source": [
    "# Operator Bitwise Left Shift\n",
    "\n",
    "Watch the video in 1.5x speed for better experience.\n"
   ]
  },
  {
   "cell_type": "code",
   "execution_count": null,
   "id": "d2d9fc2d",
   "metadata": {},
   "outputs": [],
   "source": [
    "<<"
   ]
  },
  {
   "cell_type": "code",
   "execution_count": 1,
   "id": "938cf88e",
   "metadata": {},
   "outputs": [
    {
     "name": "stdout",
     "output_type": "stream",
     "text": [
      "40\n"
     ]
    }
   ],
   "source": [
    "print(10 << 2)"
   ]
  },
  {
   "cell_type": "code",
   "execution_count": null,
   "id": "b2fe119d",
   "metadata": {},
   "outputs": [],
   "source": [
    "1024    512    256    128    64    32    16    8    4    2    1\n",
    "                                               1    0    1    0\n",
    "                       0      0    1      0    1    0    0    0    \n",
    "                       1      1     0      0    0   0    0    0"
   ]
  },
  {
   "cell_type": "code",
   "execution_count": null,
   "id": "9531f29f",
   "metadata": {},
   "outputs": [],
   "source": [
    "\n",
    "00001010\n",
    "\n",
    "00010100\n",
    "\n",
    "00101000"
   ]
  },
  {
   "cell_type": "code",
   "execution_count": 2,
   "id": "da47a2ce",
   "metadata": {},
   "outputs": [
    {
     "name": "stdout",
     "output_type": "stream",
     "text": [
      "192\n"
     ]
    }
   ],
   "source": [
    "print(24 << 3)"
   ]
  },
  {
   "cell_type": "code",
   "execution_count": null,
   "id": "fb9a2294",
   "metadata": {},
   "outputs": [],
   "source": [
    "00011000\n",
    "\n",
    "11000000"
   ]
  }
 ],
 "metadata": {
  "kernelspec": {
   "display_name": "Python 3 (ipykernel)",
   "language": "python",
   "name": "python3"
  },
  "language_info": {
   "codemirror_mode": {
    "name": "ipython",
    "version": 3
   },
   "file_extension": ".py",
   "mimetype": "text/x-python",
   "name": "python",
   "nbconvert_exporter": "python",
   "pygments_lexer": "ipython3",
   "version": "3.9.12"
  }
 },
 "nbformat": 4,
 "nbformat_minor": 5
}
