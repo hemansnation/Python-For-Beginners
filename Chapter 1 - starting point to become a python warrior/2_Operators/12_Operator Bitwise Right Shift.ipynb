{
 "cells": [
  {
   "cell_type": "markdown",
   "id": "01115474",
   "metadata": {},
   "source": [
    "# Bitwise Right Shift\n",
    "\n",
    "Watch the video in 1.5x speed for better experience.\n"
   ]
  },
  {
   "cell_type": "code",
   "execution_count": null,
   "id": "824f8d70",
   "metadata": {},
   "outputs": [],
   "source": [
    ">>"
   ]
  },
  {
   "cell_type": "code",
   "execution_count": 1,
   "id": "4d5b08e9",
   "metadata": {},
   "outputs": [
    {
     "name": "stdout",
     "output_type": "stream",
     "text": [
      "3\n"
     ]
    }
   ],
   "source": [
    "print(12 >> 2)"
   ]
  },
  {
   "cell_type": "code",
   "execution_count": null,
   "id": "6aa2355f",
   "metadata": {},
   "outputs": [],
   "source": [
    "128    64    32    16    8    4    2    1\n",
    "                         1    1    0    0\n",
    "                                   1    1\n",
    "                    1    1    0    1    1\n",
    "              1     0    1    1    1    1\n",
    "                         1    0    1    1"
   ]
  },
  {
   "cell_type": "code",
   "execution_count": null,
   "id": "61c87f96",
   "metadata": {},
   "outputs": [],
   "source": [
    "00001100\n",
    "\n",
    "00000110\n",
    "\n",
    "00000011"
   ]
  },
  {
   "cell_type": "code",
   "execution_count": 2,
   "id": "2d6dfddb",
   "metadata": {},
   "outputs": [
    {
     "name": "stdout",
     "output_type": "stream",
     "text": [
      "3\n"
     ]
    }
   ],
   "source": [
    "print(27 >> 3)"
   ]
  },
  {
   "cell_type": "code",
   "execution_count": null,
   "id": "8dafffe4",
   "metadata": {},
   "outputs": [],
   "source": [
    "00001101\n",
    "\n",
    "00000110\n",
    "\n",
    "00000011\n"
   ]
  },
  {
   "cell_type": "code",
   "execution_count": 3,
   "id": "734d2bd5",
   "metadata": {},
   "outputs": [
    {
     "name": "stdout",
     "output_type": "stream",
     "text": [
      "11\n"
     ]
    }
   ],
   "source": [
    "print(47 >> 2)"
   ]
  },
  {
   "cell_type": "code",
   "execution_count": null,
   "id": "5c971303",
   "metadata": {},
   "outputs": [],
   "source": [
    "00101111\n",
    "\n",
    "00010111\n",
    "\n",
    "00001011\n"
   ]
  }
 ],
 "metadata": {
  "kernelspec": {
   "display_name": "Python 3 (ipykernel)",
   "language": "python",
   "name": "python3"
  },
  "language_info": {
   "codemirror_mode": {
    "name": "ipython",
    "version": 3
   },
   "file_extension": ".py",
   "mimetype": "text/x-python",
   "name": "python",
   "nbconvert_exporter": "python",
   "pygments_lexer": "ipython3",
   "version": "3.9.12"
  }
 },
 "nbformat": 4,
 "nbformat_minor": 5
}
