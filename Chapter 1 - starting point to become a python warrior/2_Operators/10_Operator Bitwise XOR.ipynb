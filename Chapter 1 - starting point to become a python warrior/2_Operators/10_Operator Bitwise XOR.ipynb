{
 "cells": [
  {
   "cell_type": "markdown",
   "id": "af3d90e1",
   "metadata": {},
   "source": [
    "# Operator Bitwise XOR\n",
    "\n",
    "Watch the video in 1.5x speed to better experience."
   ]
  },
  {
   "cell_type": "code",
   "execution_count": 1,
   "id": "6b731f3a",
   "metadata": {},
   "outputs": [
    {
     "name": "stdout",
     "output_type": "stream",
     "text": [
      "5\n"
     ]
    }
   ],
   "source": [
    "print(12 ^ 9)"
   ]
  },
  {
   "cell_type": "code",
   "execution_count": null,
   "id": "658deead",
   "metadata": {},
   "outputs": [],
   "source": [
    "1024    512    256    128    64    32    16    8    4    2    1\n",
    "                                               1    1    0    0\n",
    "                                               1    0    0    1\n",
    "                                               0    1    0    1\n",
    "                                          1    1    0    1    1\n",
    "                                          0    1    1    1    0"
   ]
  },
  {
   "cell_type": "code",
   "execution_count": null,
   "id": "6e2c0517",
   "metadata": {},
   "outputs": [],
   "source": [
    "truth table\n",
    "^\n",
    "0 ^ 0 -> 0\n",
    "0 ^ 1 -> 1\n",
    "1 ^ 0 -> 1\n",
    "1 ^ 1 -> 0"
   ]
  },
  {
   "cell_type": "code",
   "execution_count": null,
   "id": "eac14af2",
   "metadata": {},
   "outputs": [],
   "source": [
    "1100\n",
    "1001  ^\n",
    "0101"
   ]
  },
  {
   "cell_type": "code",
   "execution_count": 2,
   "id": "a7091268",
   "metadata": {},
   "outputs": [
    {
     "name": "stdout",
     "output_type": "stream",
     "text": [
      "14\n"
     ]
    }
   ],
   "source": [
    "print(21 ^ 27)"
   ]
  },
  {
   "cell_type": "code",
   "execution_count": null,
   "id": "04c9b93c",
   "metadata": {},
   "outputs": [],
   "source": [
    "10101\n",
    "11011  ^\n",
    "01110"
   ]
  }
 ],
 "metadata": {
  "kernelspec": {
   "display_name": "Python 3 (ipykernel)",
   "language": "python",
   "name": "python3"
  },
  "language_info": {
   "codemirror_mode": {
    "name": "ipython",
    "version": 3
   },
   "file_extension": ".py",
   "mimetype": "text/x-python",
   "name": "python",
   "nbconvert_exporter": "python",
   "pygments_lexer": "ipython3",
   "version": "3.9.12"
  }
 },
 "nbformat": 4,
 "nbformat_minor": 5
}
