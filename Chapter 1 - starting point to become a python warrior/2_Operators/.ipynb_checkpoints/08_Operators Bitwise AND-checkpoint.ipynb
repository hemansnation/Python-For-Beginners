{
 "cells": [
  {
   "cell_type": "markdown",
   "id": "32cdbfdb",
   "metadata": {},
   "source": [
    "# Bitwise Operators"
   ]
  },
  {
   "cell_type": "code",
   "execution_count": null,
   "id": "26419392",
   "metadata": {},
   "outputs": [],
   "source": [
    "& -> bitwise and\n",
    "| -> bitwise or\n",
    "^ -> bitwise xor\n",
    "<<  -> bitwise leftshift\n",
    ">>  -> bitwise rightshift"
   ]
  },
  {
   "cell_type": "markdown",
   "id": "6b49f93c",
   "metadata": {},
   "source": [
    "# & -> bitwise and\n"
   ]
  },
  {
   "cell_type": "code",
   "execution_count": 2,
   "id": "e3150dd8",
   "metadata": {},
   "outputs": [
    {
     "name": "stdout",
     "output_type": "stream",
     "text": [
      "0\n"
     ]
    }
   ],
   "source": [
    "print(8 & 2)"
   ]
  },
  {
   "cell_type": "markdown",
   "id": "8d46ed98",
   "metadata": {},
   "source": [
    "# Binary Numbers"
   ]
  },
  {
   "cell_type": "code",
   "execution_count": null,
   "id": "887e7d6f",
   "metadata": {},
   "outputs": [],
   "source": [
    "1024    512    256    128    64    32    16    8    4    2    1\n",
    "                                               1    0    0    0\n",
    "                                                         1    0\n",
    "                                               0    0    0    0\n",
    "                                               1    0    1    1\n",
    "                                                         1    1\n",
    "                                          1    1    0    1    1\n",
    "                                          1    1    0    0    1"
   ]
  },
  {
   "cell_type": "code",
   "execution_count": null,
   "id": "8ab83c3e",
   "metadata": {},
   "outputs": [],
   "source": [
    "truth tables\n",
    "& \n",
    "0  &  0 -> 0 \n",
    "0  &  1 -> 0\n",
    "1  &  0 -> 0\n",
    "1  &  1 -> 1"
   ]
  },
  {
   "cell_type": "code",
   "execution_count": null,
   "id": "0fc892ff",
   "metadata": {},
   "outputs": [],
   "source": [
    "1000\n",
    "0010  &\n",
    "0000"
   ]
  },
  {
   "cell_type": "code",
   "execution_count": 3,
   "id": "2ebbe530",
   "metadata": {},
   "outputs": [
    {
     "name": "stdout",
     "output_type": "stream",
     "text": [
      "3\n"
     ]
    }
   ],
   "source": [
    "print(11 & 3)"
   ]
  },
  {
   "cell_type": "code",
   "execution_count": null,
   "id": "e2c33fba",
   "metadata": {},
   "outputs": [],
   "source": [
    "1011\n",
    "0011  &\n",
    "0011"
   ]
  },
  {
   "cell_type": "code",
   "execution_count": 4,
   "id": "f14c2e3a",
   "metadata": {},
   "outputs": [
    {
     "data": {
      "text/plain": [
       "11"
      ]
     },
     "execution_count": 4,
     "metadata": {},
     "output_type": "execute_result"
    }
   ],
   "source": [
    "27 & 11"
   ]
  },
  {
   "cell_type": "code",
   "execution_count": null,
   "id": "5bb24d18",
   "metadata": {},
   "outputs": [],
   "source": [
    "11011\n",
    "01011  &\n",
    "01011"
   ]
  },
  {
   "cell_type": "code",
   "execution_count": 5,
   "id": "9f1fdb6b",
   "metadata": {},
   "outputs": [
    {
     "data": {
      "text/plain": [
       "25"
      ]
     },
     "execution_count": 5,
     "metadata": {},
     "output_type": "execute_result"
    }
   ],
   "source": [
    "31 & 25"
   ]
  },
  {
   "cell_type": "code",
   "execution_count": null,
   "id": "877d5a15",
   "metadata": {},
   "outputs": [],
   "source": [
    "11111\n",
    "11001  &\n",
    "11001"
   ]
  }
 ],
 "metadata": {
  "kernelspec": {
   "display_name": "Python 3 (ipykernel)",
   "language": "python",
   "name": "python3"
  },
  "language_info": {
   "codemirror_mode": {
    "name": "ipython",
    "version": 3
   },
   "file_extension": ".py",
   "mimetype": "text/x-python",
   "name": "python",
   "nbconvert_exporter": "python",
   "pygments_lexer": "ipython3",
   "version": "3.9.12"
  }
 },
 "nbformat": 4,
 "nbformat_minor": 5
}
