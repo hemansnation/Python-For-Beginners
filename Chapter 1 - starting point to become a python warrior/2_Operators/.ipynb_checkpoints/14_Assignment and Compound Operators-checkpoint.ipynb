{
 "cells": [
  {
   "cell_type": "markdown",
   "id": "9834988f",
   "metadata": {},
   "source": [
    "# Assignment and Compound Operators\n",
    "\n",
    "Watch the video in 1.5x speed for better experience.\n"
   ]
  },
  {
   "cell_type": "code",
   "execution_count": null,
   "id": "d47edd78",
   "metadata": {},
   "outputs": [],
   "source": [
    "# Assignment\n",
    "="
   ]
  },
  {
   "cell_type": "code",
   "execution_count": 1,
   "id": "304a393c",
   "metadata": {},
   "outputs": [
    {
     "name": "stdout",
     "output_type": "stream",
     "text": [
      "10\n",
      "20\n"
     ]
    }
   ],
   "source": [
    "a = 10\n",
    "\n",
    "print(a)\n",
    "\n",
    "a = 20\n",
    "\n",
    "print(a)"
   ]
  },
  {
   "cell_type": "code",
   "execution_count": null,
   "id": "f6e9aa67",
   "metadata": {},
   "outputs": [],
   "source": [
    "# compound operators\n",
    "+=, -=, *= , /=, **=, //=, %="
   ]
  },
  {
   "cell_type": "code",
   "execution_count": 2,
   "id": "4df58fbb",
   "metadata": {},
   "outputs": [
    {
     "name": "stdout",
     "output_type": "stream",
     "text": [
      "15\n"
     ]
    }
   ],
   "source": [
    "a = 10\n",
    "\n",
    "a += 5   # a = a + 5\n",
    "\n",
    "print(a)"
   ]
  },
  {
   "cell_type": "code",
   "execution_count": 3,
   "id": "a00f6018",
   "metadata": {},
   "outputs": [
    {
     "name": "stdout",
     "output_type": "stream",
     "text": [
      "8\n"
     ]
    }
   ],
   "source": [
    "a = 10\n",
    "\n",
    "a -= 2   # a = a - 2\n",
    "\n",
    "print(a)"
   ]
  },
  {
   "cell_type": "code",
   "execution_count": 4,
   "id": "0ebc52ee",
   "metadata": {},
   "outputs": [
    {
     "name": "stdout",
     "output_type": "stream",
     "text": [
      "10.0\n"
     ]
    }
   ],
   "source": [
    "b = 20\n",
    "\n",
    "b /= 2  # b = b / 2\n",
    "\n",
    "print(b)"
   ]
  },
  {
   "cell_type": "code",
   "execution_count": 5,
   "id": "7fd0dde4",
   "metadata": {},
   "outputs": [
    {
     "name": "stdout",
     "output_type": "stream",
     "text": [
      "27\n"
     ]
    }
   ],
   "source": [
    "c = 3\n",
    "\n",
    "c **= 3   # c = c ** 3\n",
    "\n",
    "print(c)"
   ]
  },
  {
   "cell_type": "code",
   "execution_count": 6,
   "id": "33a064a7",
   "metadata": {},
   "outputs": [
    {
     "name": "stdout",
     "output_type": "stream",
     "text": [
      "2\n"
     ]
    }
   ],
   "source": [
    "d = 10\n",
    "\n",
    "d %= 4   # d = d % 4\n",
    "\n",
    "print(d)"
   ]
  },
  {
   "cell_type": "code",
   "execution_count": null,
   "id": "91c8e9f1",
   "metadata": {},
   "outputs": [],
   "source": []
  }
 ],
 "metadata": {
  "kernelspec": {
   "display_name": "Python 3 (ipykernel)",
   "language": "python",
   "name": "python3"
  },
  "language_info": {
   "codemirror_mode": {
    "name": "ipython",
    "version": 3
   },
   "file_extension": ".py",
   "mimetype": "text/x-python",
   "name": "python",
   "nbconvert_exporter": "python",
   "pygments_lexer": "ipython3",
   "version": "3.9.12"
  }
 },
 "nbformat": 4,
 "nbformat_minor": 5
}
