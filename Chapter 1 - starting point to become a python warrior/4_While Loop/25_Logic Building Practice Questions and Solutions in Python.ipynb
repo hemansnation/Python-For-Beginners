{
 "cells": [
  {
   "cell_type": "markdown",
   "id": "e26472bd",
   "metadata": {},
   "source": [
    "# Logic Building Practice \n",
    "# Questions and Solutions in Python\n",
    "\n",
    "Watch the video at 1.5x speed for better experience."
   ]
  },
  {
   "cell_type": "markdown",
   "id": "f288b566",
   "metadata": {},
   "source": [
    "**Write a program to enter a number from the user<br>\n",
    "and print reverse of that number,**\n"
   ]
  },
  {
   "cell_type": "code",
   "execution_count": null,
   "id": "8a40b504",
   "metadata": {},
   "outputs": [],
   "source": [
    "143 % 10 = 3\n",
    "143 // 10 = 14\n",
    "\n",
    "14 % 10 = 4\n",
    "14 // 10 = 1\n",
    "\n",
    "1 % 10 = 1\n",
    "1 // 10 = 0"
   ]
  },
  {
   "cell_type": "code",
   "execution_count": 1,
   "id": "2db4c867",
   "metadata": {},
   "outputs": [
    {
     "name": "stdout",
     "output_type": "stream",
     "text": [
      "Enter a number: 143\n",
      "341"
     ]
    }
   ],
   "source": [
    "n = int(input(\"Enter a number: \"))\n",
    "\n",
    "while n > 0:\n",
    "    r = n % 10\n",
    "    print(r, end='')   # 341\n",
    "    n = n // 10"
   ]
  },
  {
   "cell_type": "markdown",
   "id": "c50d4baf",
   "metadata": {},
   "source": [
    "**Write a program to enter a number from the user<br>\n",
    "and print addition of its individual digits,**\n",
    "\n"
   ]
  },
  {
   "cell_type": "code",
   "execution_count": null,
   "id": "dfde20cc",
   "metadata": {},
   "outputs": [],
   "source": [
    "143 = 1 + 4 + 3 = 8\n",
    "\n",
    "0 = add\n",
    "1 = 1   add\n",
    "4 = 5   add\n",
    "3 = 8   add"
   ]
  },
  {
   "cell_type": "code",
   "execution_count": 3,
   "id": "1f5cf355",
   "metadata": {},
   "outputs": [
    {
     "name": "stdout",
     "output_type": "stream",
     "text": [
      "Enter a number: 167\n",
      "Addition = 14\n"
     ]
    }
   ],
   "source": [
    "n = int(input(\"Enter a number: \"))\n",
    "add = 0\n",
    "\n",
    "while n > 0:\n",
    "    r = n % 10\n",
    "    add = add + r  # add = 0, 3, 7, 8\n",
    "    n = n // 10\n",
    "\n",
    "print(\"Addition =\", add)"
   ]
  },
  {
   "cell_type": "markdown",
   "id": "ed178e75",
   "metadata": {},
   "source": [
    "**Write a program to enter a number from the user<br>\n",
    "and print reverse of it with dynamic method,**\n",
    "\n"
   ]
  },
  {
   "cell_type": "code",
   "execution_count": 4,
   "id": "166588c3",
   "metadata": {},
   "outputs": [
    {
     "name": "stdout",
     "output_type": "stream",
     "text": [
      "Enter a number: 143\n",
      "Reverse = 341\n",
      "682\n"
     ]
    }
   ],
   "source": [
    "n = int(input(\"Enter a number: \"))\n",
    "add = 0\n",
    "\n",
    "while n > 0:\n",
    "    r = n % 10\n",
    "    add = add * 10 + r  # add = 0, 3, 34, 341\n",
    "    n = n // 10\n",
    "\n",
    "print(\"Reverse =\", add)\n",
    "print(add * 2)"
   ]
  },
  {
   "cell_type": "markdown",
   "id": "2d91fb2b",
   "metadata": {},
   "source": [
    "\n",
    "**Write a program to enter a number from the user<br>\n",
    "and check if it palindrome or not,**\n",
    "\n"
   ]
  },
  {
   "cell_type": "code",
   "execution_count": null,
   "id": "8a7b0bf5",
   "metadata": {},
   "outputs": [],
   "source": [
    "121 = 121 = palindrome\n",
    "\n",
    "143 = 341 => not palindrome"
   ]
  },
  {
   "cell_type": "code",
   "execution_count": 6,
   "id": "ee31ec8a",
   "metadata": {},
   "outputs": [
    {
     "name": "stdout",
     "output_type": "stream",
     "text": [
      "Enter a number: 121\n",
      "Not a Palindrome\n"
     ]
    }
   ],
   "source": [
    "n = int(input(\"Enter a number: \"))\n",
    "add = 0\n",
    "\n",
    "while n > 0:\n",
    "    r = n % 10\n",
    "    add = add * 10 + r\n",
    "    n = n // 10\n",
    "\n",
    "if add == n:\n",
    "    print(\"Palindrome\")\n",
    "else:\n",
    "    print(\"Not a Palindrome\")"
   ]
  },
  {
   "cell_type": "code",
   "execution_count": 8,
   "id": "05dfbdda",
   "metadata": {},
   "outputs": [
    {
     "name": "stdout",
     "output_type": "stream",
     "text": [
      "Enter a number: 121\n",
      "Palindrome\n"
     ]
    }
   ],
   "source": [
    "n = int(input(\"Enter a number: \"))\n",
    "call = n\n",
    "add = 0\n",
    "\n",
    "while n > 0:\n",
    "    r = n % 10\n",
    "    add = add * 10 + r\n",
    "    n = n // 10\n",
    "\n",
    "if add == call:\n",
    "    print(\"Palindrome\")\n",
    "else:\n",
    "    print(\"Not a Palindrome\")"
   ]
  },
  {
   "cell_type": "markdown",
   "id": "14cd6c98",
   "metadata": {},
   "source": [
    "\n",
    "**Write a program to enter a number from the user<br>\n",
    "and check if it armstrong number or not,**"
   ]
  },
  {
   "cell_type": "code",
   "execution_count": null,
   "id": "a269453c",
   "metadata": {},
   "outputs": [],
   "source": [
    "143\n",
    "\n",
    "cube(1) + cube(4) + cube(3) = 1 + 64 + 27 = 92"
   ]
  },
  {
   "cell_type": "code",
   "execution_count": 10,
   "id": "4e3d343b",
   "metadata": {},
   "outputs": [
    {
     "data": {
      "text/plain": [
       "92"
      ]
     },
     "execution_count": 10,
     "metadata": {},
     "output_type": "execute_result"
    }
   ],
   "source": [
    "153\n",
    "\n",
    "cube(1) + cube(5) + cube(3) = 1 + 125 + 27 = 153"
   ]
  },
  {
   "cell_type": "code",
   "execution_count": 13,
   "id": "612b8368",
   "metadata": {},
   "outputs": [
    {
     "name": "stdout",
     "output_type": "stream",
     "text": [
      "Enter a number: 370\n",
      "Armstrong Number\n"
     ]
    }
   ],
   "source": [
    "n = int(input(\"Enter a number: \"))\n",
    "call = n\n",
    "add = 0\n",
    "\n",
    "while n > 0:\n",
    "    r = n % 10\n",
    "    add = add + r*r*r  # add = 0, 27\n",
    "    n = n // 10\n",
    "\n",
    "if add == call:\n",
    "    print(\"Armstrong Number\")\n",
    "else:\n",
    "    print(\"Not an Armstrong Number\")"
   ]
  },
  {
   "cell_type": "code",
   "execution_count": null,
   "id": "14c43061",
   "metadata": {},
   "outputs": [],
   "source": []
  }
 ],
 "metadata": {
  "kernelspec": {
   "display_name": "Python 3 (ipykernel)",
   "language": "python",
   "name": "python3"
  },
  "language_info": {
   "codemirror_mode": {
    "name": "ipython",
    "version": 3
   },
   "file_extension": ".py",
   "mimetype": "text/x-python",
   "name": "python",
   "nbconvert_exporter": "python",
   "pygments_lexer": "ipython3",
   "version": "3.9.12"
  }
 },
 "nbformat": 4,
 "nbformat_minor": 5
}
