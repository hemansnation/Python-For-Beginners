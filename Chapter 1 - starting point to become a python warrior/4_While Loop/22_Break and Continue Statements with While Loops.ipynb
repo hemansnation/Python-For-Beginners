{
 "cells": [
  {
   "cell_type": "markdown",
   "id": "4fe5957a",
   "metadata": {},
   "source": [
    "# Break and Continue Statements \n",
    "# with While Loops\n",
    "\n",
    "Watch the video in 1.5x speed for better experience."
   ]
  },
  {
   "cell_type": "code",
   "execution_count": 5,
   "id": "9a707a63",
   "metadata": {},
   "outputs": [
    {
     "name": "stdout",
     "output_type": "stream",
     "text": [
      "1\n",
      "Finish\n"
     ]
    }
   ],
   "source": [
    "i = 1\n",
    "\n",
    "while i <= 10:\n",
    "    print(i)\n",
    "    break\n",
    "\n",
    "print(\"Finish\")"
   ]
  },
  {
   "cell_type": "code",
   "execution_count": 6,
   "id": "e4dc09e5",
   "metadata": {},
   "outputs": [
    {
     "name": "stdout",
     "output_type": "stream",
     "text": [
      "1\n",
      "2\n",
      "3\n",
      "4\n",
      "5\n",
      "Finish\n"
     ]
    }
   ],
   "source": [
    "i = 1\n",
    "\n",
    "while i <= 10:\n",
    "    if i == 5:\n",
    "        print(i)\n",
    "        break\n",
    "    else:\n",
    "        print(i)\n",
    "    i += 1\n",
    "\n",
    "print(\"Finish\")"
   ]
  },
  {
   "cell_type": "markdown",
   "id": "28440ee4",
   "metadata": {},
   "source": [
    "# continue statement"
   ]
  },
  {
   "cell_type": "code",
   "execution_count": 7,
   "id": "b37c3c9a",
   "metadata": {},
   "outputs": [
    {
     "name": "stdout",
     "output_type": "stream",
     "text": [
      "1\n",
      "3\n",
      "5\n",
      "7\n",
      "9\n",
      "11\n",
      "Indore\n"
     ]
    }
   ],
   "source": [
    "i = 0\n",
    "\n",
    "while i <= 10:\n",
    "    i += 1\n",
    "    if i%2 == 0:\n",
    "        continue\n",
    "    else:\n",
    "        print(i)\n",
    "\n",
    "print(\"Indore\")"
   ]
  },
  {
   "cell_type": "code",
   "execution_count": null,
   "id": "6fb5104e",
   "metadata": {},
   "outputs": [],
   "source": []
  }
 ],
 "metadata": {
  "kernelspec": {
   "display_name": "Python 3 (ipykernel)",
   "language": "python",
   "name": "python3"
  },
  "language_info": {
   "codemirror_mode": {
    "name": "ipython",
    "version": 3
   },
   "file_extension": ".py",
   "mimetype": "text/x-python",
   "name": "python",
   "nbconvert_exporter": "python",
   "pygments_lexer": "ipython3",
   "version": "3.9.12"
  }
 },
 "nbformat": 4,
 "nbformat_minor": 5
}
