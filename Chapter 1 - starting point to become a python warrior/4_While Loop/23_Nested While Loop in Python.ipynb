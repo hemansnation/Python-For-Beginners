{
 "cells": [
  {
   "cell_type": "markdown",
   "id": "ed5fb122",
   "metadata": {},
   "source": [
    "# Nested While Loop in Python\n",
    "\n",
    "Watch the video at 1.5x speed for better experience."
   ]
  },
  {
   "cell_type": "code",
   "execution_count": null,
   "id": "6b9d81a1",
   "metadata": {},
   "outputs": [],
   "source": [
    "11  12  13\n",
    "21  22  23\n",
    "31  32  33"
   ]
  },
  {
   "cell_type": "code",
   "execution_count": 2,
   "id": "e0a36b78",
   "metadata": {},
   "outputs": [
    {
     "name": "stdout",
     "output_type": "stream",
     "text": [
      "1 1  1 2  1 3  \n",
      "\n",
      "\n"
     ]
    }
   ],
   "source": [
    "i = 1\n",
    "j = 1\n",
    "\n",
    "while i <= 3:\n",
    "    \n",
    "    while j <= 3:\n",
    "        print(i,j, end='  ')\n",
    "        j += 1\n",
    "    print()\n",
    "    i += 1"
   ]
  },
  {
   "cell_type": "code",
   "execution_count": null,
   "id": "470435c2",
   "metadata": {},
   "outputs": [],
   "source": [
    "11  12  13\n",
    "21  22  23\n",
    "31  32  33"
   ]
  },
  {
   "cell_type": "code",
   "execution_count": 3,
   "id": "897c1db9",
   "metadata": {},
   "outputs": [
    {
     "name": "stdout",
     "output_type": "stream",
     "text": [
      "1 1  1 2  1 3  \n",
      "2 1  2 2  2 3  \n",
      "3 1  3 2  3 3  \n"
     ]
    }
   ],
   "source": [
    "i = 1\n",
    "# j = 1\n",
    "\n",
    "while i <= 3:\n",
    "    j = 1\n",
    "    while j <= 3:\n",
    "        print(i,j, end='  ')\n",
    "        j += 1\n",
    "    print()\n",
    "    i += 1"
   ]
  },
  {
   "cell_type": "code",
   "execution_count": 4,
   "id": "35032d30",
   "metadata": {},
   "outputs": [
    {
     "name": "stdout",
     "output_type": "stream",
     "text": [
      "11  12  13  \n",
      "21  22  23  \n",
      "31  32  33  \n"
     ]
    }
   ],
   "source": [
    "i = 1\n",
    "# j = 1\n",
    "\n",
    "while i <= 3:\n",
    "    j = 1\n",
    "    while j <= 3:\n",
    "        print(i, end='')\n",
    "        print(j, end='  ')\n",
    "        j += 1\n",
    "    print()\n",
    "    i += 1"
   ]
  },
  {
   "cell_type": "code",
   "execution_count": 1,
   "id": "9e9e777a",
   "metadata": {},
   "outputs": [
    {
     "name": "stdout",
     "output_type": "stream",
     "text": [
      "Hi\n",
      "\n",
      "Bye\n"
     ]
    }
   ],
   "source": [
    "print(\"Hi\")\n",
    "print()\n",
    "print(\"Bye\")"
   ]
  },
  {
   "cell_type": "code",
   "execution_count": null,
   "id": "eed4ef1d",
   "metadata": {},
   "outputs": [],
   "source": []
  }
 ],
 "metadata": {
  "kernelspec": {
   "display_name": "Python 3 (ipykernel)",
   "language": "python",
   "name": "python3"
  },
  "language_info": {
   "codemirror_mode": {
    "name": "ipython",
    "version": 3
   },
   "file_extension": ".py",
   "mimetype": "text/x-python",
   "name": "python",
   "nbconvert_exporter": "python",
   "pygments_lexer": "ipython3",
   "version": "3.9.12"
  }
 },
 "nbformat": 4,
 "nbformat_minor": 5
}
