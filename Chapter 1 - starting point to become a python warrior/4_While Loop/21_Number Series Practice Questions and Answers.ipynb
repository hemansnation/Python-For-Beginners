{
 "cells": [
  {
   "cell_type": "markdown",
   "id": "61e364c5",
   "metadata": {},
   "source": [
    "# Number Series Practice Questions and Answers\n",
    "\n",
    "Watch the video at 1.5x speed for better experience."
   ]
  },
  {
   "cell_type": "markdown",
   "id": "b20f20e2",
   "metadata": {},
   "source": [
    "**Write a program to print first 10 even numbers**"
   ]
  },
  {
   "cell_type": "code",
   "execution_count": null,
   "id": "4a3513de",
   "metadata": {},
   "outputs": [],
   "source": [
    "2  4  6  8  10  12  14  16  18  20"
   ]
  },
  {
   "cell_type": "code",
   "execution_count": 1,
   "id": "0b2a21ea",
   "metadata": {},
   "outputs": [
    {
     "name": "stdout",
     "output_type": "stream",
     "text": [
      "2  4  6  8  10  12  14  16  18  20  "
     ]
    }
   ],
   "source": [
    "i = 2\n",
    "\n",
    "while i <= 20:\n",
    "    print(i, end='  ')\n",
    "    i += 2"
   ]
  },
  {
   "cell_type": "code",
   "execution_count": 2,
   "id": "dbbfffc3",
   "metadata": {},
   "outputs": [
    {
     "name": "stdout",
     "output_type": "stream",
     "text": [
      "2  4  6  8  10  12  14  16  18  20  "
     ]
    }
   ],
   "source": [
    "i = 1\n",
    "\n",
    "while i <= 20:\n",
    "    if i%2 == 0:\n",
    "        print(i, end='  ')\n",
    "    i += 1"
   ]
  },
  {
   "cell_type": "markdown",
   "id": "c7070d6e",
   "metadata": {},
   "source": [
    "**Write a program to print first 10 odd numbers**"
   ]
  },
  {
   "cell_type": "code",
   "execution_count": 3,
   "id": "aebdb4c9",
   "metadata": {},
   "outputs": [
    {
     "name": "stdout",
     "output_type": "stream",
     "text": [
      "1  3  5  7  9  11  13  15  17  19  "
     ]
    }
   ],
   "source": [
    "i = 1\n",
    "\n",
    "while i <= 20:\n",
    "    print(i, end='  ')\n",
    "    i += 2"
   ]
  },
  {
   "cell_type": "code",
   "execution_count": 4,
   "id": "ab8bfe68",
   "metadata": {},
   "outputs": [
    {
     "name": "stdout",
     "output_type": "stream",
     "text": [
      "1  3  5  7  9  11  13  15  17  19  "
     ]
    }
   ],
   "source": [
    "i = 1\n",
    "\n",
    "while i <= 20:\n",
    "    if i%2 == 1:\n",
    "        print(i, end='  ')\n",
    "    i += 1"
   ]
  },
  {
   "cell_type": "markdown",
   "id": "5af1ba99",
   "metadata": {},
   "source": [
    "**Write a program to print following series**"
   ]
  },
  {
   "cell_type": "code",
   "execution_count": null,
   "id": "c4def24d",
   "metadata": {},
   "outputs": [],
   "source": [
    "1/1  2/4  3/9  4/16  5/25  6/36  7/49  8/64  9/81  10/100"
   ]
  },
  {
   "cell_type": "code",
   "execution_count": 6,
   "id": "4dd27316",
   "metadata": {},
   "outputs": [
    {
     "name": "stdout",
     "output_type": "stream",
     "text": [
      "1 / 1  2 / 4  3 / 9  4 / 16  5 / 25  6 / 36  7 / 49  8 / 64  9 / 81  10 / 100  "
     ]
    }
   ],
   "source": [
    "i = 1\n",
    "\n",
    "while i <= 10:\n",
    "    print(i,\"/\", i*i, end='  ')\n",
    "    i += 1"
   ]
  },
  {
   "cell_type": "code",
   "execution_count": 7,
   "id": "c0cb406f",
   "metadata": {},
   "outputs": [
    {
     "name": "stdout",
     "output_type": "stream",
     "text": [
      "1/1  2/4  3/9  4/16  5/25  6/36  7/49  8/64  9/81  10/100  "
     ]
    }
   ],
   "source": [
    "i = 1\n",
    "\n",
    "while i <= 10:\n",
    "    print(i, end='/')\n",
    "    print(i*i, end='  ')\n",
    "    i += 1"
   ]
  },
  {
   "cell_type": "code",
   "execution_count": null,
   "id": "524b50dc",
   "metadata": {},
   "outputs": [],
   "source": [
    "1+2+3+4+5+6+7+8+9+10"
   ]
  },
  {
   "cell_type": "code",
   "execution_count": 8,
   "id": "23ce4418",
   "metadata": {},
   "outputs": [
    {
     "name": "stdout",
     "output_type": "stream",
     "text": [
      "1+2+3+4+5+6+7+8+9+10+"
     ]
    }
   ],
   "source": [
    "i = 1\n",
    "\n",
    "while i <= 10:\n",
    "    print(i, end='+')\n",
    "    i += 1"
   ]
  },
  {
   "cell_type": "code",
   "execution_count": 9,
   "id": "c9ad62d9",
   "metadata": {},
   "outputs": [
    {
     "name": "stdout",
     "output_type": "stream",
     "text": [
      "1+2+3+4+5+6+7+8+9+10\n"
     ]
    }
   ],
   "source": [
    "i = 1\n",
    "\n",
    "while i <= 10:\n",
    "    if i < 10:\n",
    "        print(i, end='+')\n",
    "    else:\n",
    "        print(i)\n",
    "    i += 1"
   ]
  },
  {
   "cell_type": "code",
   "execution_count": null,
   "id": "c6b4eb8a",
   "metadata": {},
   "outputs": [],
   "source": []
  }
 ],
 "metadata": {
  "kernelspec": {
   "display_name": "Python 3 (ipykernel)",
   "language": "python",
   "name": "python3"
  },
  "language_info": {
   "codemirror_mode": {
    "name": "ipython",
    "version": 3
   },
   "file_extension": ".py",
   "mimetype": "text/x-python",
   "name": "python",
   "nbconvert_exporter": "python",
   "pygments_lexer": "ipython3",
   "version": "3.9.12"
  }
 },
 "nbformat": 4,
 "nbformat_minor": 5
}
