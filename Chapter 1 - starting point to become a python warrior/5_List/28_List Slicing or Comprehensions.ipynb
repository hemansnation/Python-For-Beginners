{
 "cells": [
  {
   "cell_type": "markdown",
   "id": "3a25fcfe",
   "metadata": {},
   "source": [
    "# List Slicing or Comprehensions\n",
    "\n",
    "Watch the video at 1.5x speed for better experience."
   ]
  },
  {
   "cell_type": "code",
   "execution_count": 1,
   "id": "477e5939",
   "metadata": {},
   "outputs": [
    {
     "name": "stdout",
     "output_type": "stream",
     "text": [
      "[11, 22, 33, 44, 55, 76, 29, 100, 102, 300]\n"
     ]
    }
   ],
   "source": [
    "l = [11,22,33,44,55,76,29,100,102,300]\n",
    "#    0  1  2  3  4  5  6   7   8  9\n",
    "print(l)"
   ]
  },
  {
   "cell_type": "code",
   "execution_count": null,
   "id": "a5d871c8",
   "metadata": {},
   "outputs": [],
   "source": [
    "# l[start : end]"
   ]
  },
  {
   "cell_type": "code",
   "execution_count": 2,
   "id": "a5b20144",
   "metadata": {},
   "outputs": [
    {
     "name": "stdout",
     "output_type": "stream",
     "text": [
      "[33, 44, 55, 76, 29]\n"
     ]
    }
   ],
   "source": [
    "print(l[2:7])"
   ]
  },
  {
   "cell_type": "code",
   "execution_count": 3,
   "id": "e3adb16b",
   "metadata": {},
   "outputs": [
    {
     "data": {
      "text/plain": [
       "[11, 22, 33, 44, 55, 76, 29, 100, 102, 300]"
      ]
     },
     "execution_count": 3,
     "metadata": {},
     "output_type": "execute_result"
    }
   ],
   "source": [
    "l"
   ]
  },
  {
   "cell_type": "code",
   "execution_count": 4,
   "id": "67845dc6",
   "metadata": {},
   "outputs": [
    {
     "name": "stdout",
     "output_type": "stream",
     "text": [
      "[76, 29, 100, 102, 300]\n"
     ]
    }
   ],
   "source": [
    "print(l[5:10])"
   ]
  },
  {
   "cell_type": "code",
   "execution_count": 5,
   "id": "5b4eb6fb",
   "metadata": {},
   "outputs": [
    {
     "name": "stdout",
     "output_type": "stream",
     "text": [
      "[29, 100, 102, 300]\n"
     ]
    }
   ],
   "source": [
    "print(l[6:15])"
   ]
  },
  {
   "cell_type": "code",
   "execution_count": 6,
   "id": "33d88da8",
   "metadata": {},
   "outputs": [
    {
     "name": "stdout",
     "output_type": "stream",
     "text": [
      "[11, 22, 33, 44, 55, 76, 29, 100, 102, 300]\n"
     ]
    }
   ],
   "source": [
    "print(l[:])"
   ]
  },
  {
   "cell_type": "code",
   "execution_count": 7,
   "id": "2064e30d",
   "metadata": {},
   "outputs": [
    {
     "name": "stdout",
     "output_type": "stream",
     "text": [
      "[11, 22, 33, 44, 55, 76, 29, 100, 102, 300]\n"
     ]
    }
   ],
   "source": [
    "print(l)"
   ]
  },
  {
   "cell_type": "code",
   "execution_count": 8,
   "id": "5c710390",
   "metadata": {},
   "outputs": [
    {
     "name": "stdout",
     "output_type": "stream",
     "text": [
      "[55, 76, 29, 100]\n",
      "[11, 22, 33, 44, 55, 76, 29, 100, 102, 300]\n"
     ]
    }
   ],
   "source": [
    "a = l[4:8]\n",
    "print(a)\n",
    "print(l)"
   ]
  },
  {
   "cell_type": "code",
   "execution_count": 9,
   "id": "598c08b4",
   "metadata": {},
   "outputs": [
    {
     "name": "stdout",
     "output_type": "stream",
     "text": [
      "[22, 33, 44]\n"
     ]
    }
   ],
   "source": [
    "l = [11,22,33,44,55,76,29,100,102,300]\n",
    "#    0  1  2  3  4  5  6   7   8  9\n",
    "\n",
    "print(l[1:4])"
   ]
  },
  {
   "cell_type": "code",
   "execution_count": 10,
   "id": "76c554d1",
   "metadata": {},
   "outputs": [
    {
     "name": "stdout",
     "output_type": "stream",
     "text": [
      "[11, 22]\n"
     ]
    }
   ],
   "source": [
    "print(l[0:2])"
   ]
  },
  {
   "cell_type": "code",
   "execution_count": 11,
   "id": "8d8df31b",
   "metadata": {},
   "outputs": [
    {
     "name": "stdout",
     "output_type": "stream",
     "text": [
      "[11]\n"
     ]
    }
   ],
   "source": [
    "print(l[0:1])"
   ]
  },
  {
   "cell_type": "code",
   "execution_count": 12,
   "id": "5307a66e",
   "metadata": {},
   "outputs": [
    {
     "name": "stdout",
     "output_type": "stream",
     "text": [
      "[]\n"
     ]
    }
   ],
   "source": [
    "print(l[0:0])"
   ]
  },
  {
   "cell_type": "code",
   "execution_count": 13,
   "id": "2b0152cc",
   "metadata": {},
   "outputs": [
    {
     "name": "stdout",
     "output_type": "stream",
     "text": [
      "<class 'list'>\n"
     ]
    }
   ],
   "source": [
    "a = []\n",
    "\n",
    "print(type(a))"
   ]
  },
  {
   "cell_type": "code",
   "execution_count": 14,
   "id": "68a4d94d",
   "metadata": {},
   "outputs": [
    {
     "name": "stdout",
     "output_type": "stream",
     "text": [
      "[22, 33, 44]\n",
      "[]\n"
     ]
    }
   ],
   "source": [
    "l = [11,22,33,44,55,76,29,100,102,300]\n",
    "#    0  1  2  3  4  5  6   7   8  9\n",
    "\n",
    "print(l[1:4])\n",
    "\n",
    "print(l[4:1])"
   ]
  },
  {
   "cell_type": "code",
   "execution_count": 15,
   "id": "9e92418a",
   "metadata": {},
   "outputs": [
    {
     "name": "stdout",
     "output_type": "stream",
     "text": [
      "[11, 33, 55, 29, 102]\n"
     ]
    }
   ],
   "source": [
    "l = [11,22,33,44,55,76,29,100,102,300]\n",
    "#    0  1  2  3  4  5  6   7   8  9\n",
    "\n",
    "print(l[::2])  # l [ start: end: steps]"
   ]
  },
  {
   "cell_type": "code",
   "execution_count": 16,
   "id": "3cb036a2",
   "metadata": {},
   "outputs": [
    {
     "name": "stdout",
     "output_type": "stream",
     "text": [
      "[11, 22, 33, 44, 55, 76, 29, 100, 102, 300]\n"
     ]
    }
   ],
   "source": [
    "l = [11,22,33,44,55,76,29,100,102,300]\n",
    "#    0  1  2  3  4  5  6   7   8  9\n",
    "\n",
    "print(l[::1])  # l [ start: end: steps]"
   ]
  },
  {
   "cell_type": "code",
   "execution_count": 17,
   "id": "080b690e",
   "metadata": {},
   "outputs": [
    {
     "name": "stdout",
     "output_type": "stream",
     "text": [
      "[11, 22, 33, 44, 55, 76, 29, 100, 102, 300]\n"
     ]
    }
   ],
   "source": [
    "print(l[::])"
   ]
  },
  {
   "cell_type": "code",
   "execution_count": 18,
   "id": "8b2e0326",
   "metadata": {},
   "outputs": [
    {
     "name": "stdout",
     "output_type": "stream",
     "text": [
      "[11, 44, 29, 300]\n"
     ]
    }
   ],
   "source": [
    "print(l[::3])"
   ]
  },
  {
   "cell_type": "code",
   "execution_count": 19,
   "id": "8c6463d8",
   "metadata": {},
   "outputs": [
    {
     "name": "stdout",
     "output_type": "stream",
     "text": [
      "[29, 100, 102]\n"
     ]
    }
   ],
   "source": [
    "#   -10 -9 -8 -7 -6 -5 -4  -3  -2  -1\n",
    "l = [11,22,33,44,55,76,29,100,102,300]\n",
    "#    0  1  2  3  4  5  6   7   8  9\n",
    "\n",
    "print(l[-4:-1])"
   ]
  },
  {
   "cell_type": "code",
   "execution_count": 20,
   "id": "8a7e9256",
   "metadata": {},
   "outputs": [
    {
     "name": "stdout",
     "output_type": "stream",
     "text": [
      "[]\n"
     ]
    }
   ],
   "source": [
    "print(l[-1:-4])"
   ]
  },
  {
   "cell_type": "code",
   "execution_count": 21,
   "id": "73403d64",
   "metadata": {},
   "outputs": [
    {
     "name": "stdout",
     "output_type": "stream",
     "text": [
      "[300, 102, 100]\n"
     ]
    }
   ],
   "source": [
    "print(l[-1:-4:-1])"
   ]
  },
  {
   "cell_type": "code",
   "execution_count": 22,
   "id": "396536e0",
   "metadata": {},
   "outputs": [
    {
     "name": "stdout",
     "output_type": "stream",
     "text": [
      "[]\n"
     ]
    }
   ],
   "source": [
    "#   -10 -9 -8 -7 -6 -5 -4  -3  -2  -1\n",
    "l = [11,22,33,44,55,76,29,100,102,300]\n",
    "#    0  1  2  3  4  5  6   7   8  9\n",
    "\n",
    "print(l[-4:-1:-1])"
   ]
  },
  {
   "cell_type": "code",
   "execution_count": 23,
   "id": "b727d46b",
   "metadata": {},
   "outputs": [
    {
     "name": "stdout",
     "output_type": "stream",
     "text": [
      "[29, 100, 102]\n"
     ]
    }
   ],
   "source": [
    "print(l[-4:-1:1])"
   ]
  },
  {
   "cell_type": "code",
   "execution_count": 24,
   "id": "4dcb7d05",
   "metadata": {},
   "outputs": [
    {
     "name": "stdout",
     "output_type": "stream",
     "text": [
      "[300, 102, 100, 29, 76, 55, 44, 33, 22, 11]\n"
     ]
    }
   ],
   "source": [
    "print(l[::-1])  # reverse"
   ]
  },
  {
   "cell_type": "code",
   "execution_count": 25,
   "id": "9972c9df",
   "metadata": {},
   "outputs": [
    {
     "name": "stdout",
     "output_type": "stream",
     "text": [
      "[11, 22, 33, 44, 55, 76, 29, 100, 102, 300]\n"
     ]
    }
   ],
   "source": [
    "print(l[::1])"
   ]
  },
  {
   "cell_type": "code",
   "execution_count": 26,
   "id": "096a373d",
   "metadata": {},
   "outputs": [
    {
     "ename": "ValueError",
     "evalue": "slice step cannot be zero",
     "output_type": "error",
     "traceback": [
      "\u001b[1;31m---------------------------------------------------------------------------\u001b[0m",
      "\u001b[1;31mValueError\u001b[0m                                Traceback (most recent call last)",
      "Input \u001b[1;32mIn [26]\u001b[0m, in \u001b[0;36m<cell line: 1>\u001b[1;34m()\u001b[0m\n\u001b[1;32m----> 1\u001b[0m \u001b[38;5;28mprint\u001b[39m(\u001b[43ml\u001b[49m\u001b[43m[\u001b[49m\u001b[43m:\u001b[49m\u001b[43m:\u001b[49m\u001b[38;5;241;43m0\u001b[39;49m\u001b[43m]\u001b[49m)\n",
      "\u001b[1;31mValueError\u001b[0m: slice step cannot be zero"
     ]
    }
   ],
   "source": [
    "print(l[::0])"
   ]
  },
  {
   "cell_type": "code",
   "execution_count": 27,
   "id": "f56e2acf",
   "metadata": {},
   "outputs": [
    {
     "ename": "IndexError",
     "evalue": "list index out of range",
     "output_type": "error",
     "traceback": [
      "\u001b[1;31m---------------------------------------------------------------------------\u001b[0m",
      "\u001b[1;31mIndexError\u001b[0m                                Traceback (most recent call last)",
      "Input \u001b[1;32mIn [27]\u001b[0m, in \u001b[0;36m<cell line: 5>\u001b[1;34m()\u001b[0m\n\u001b[0;32m      2\u001b[0m l \u001b[38;5;241m=\u001b[39m [\u001b[38;5;241m11\u001b[39m,\u001b[38;5;241m22\u001b[39m,\u001b[38;5;241m33\u001b[39m,\u001b[38;5;241m44\u001b[39m,\u001b[38;5;241m55\u001b[39m,\u001b[38;5;241m76\u001b[39m,\u001b[38;5;241m29\u001b[39m,\u001b[38;5;241m100\u001b[39m,\u001b[38;5;241m102\u001b[39m,\u001b[38;5;241m300\u001b[39m]\n\u001b[0;32m      3\u001b[0m \u001b[38;5;66;03m#    0  1  2  3  4  5  6   7   8  9\u001b[39;00m\n\u001b[1;32m----> 5\u001b[0m \u001b[38;5;28mprint\u001b[39m(\u001b[43ml\u001b[49m\u001b[43m[\u001b[49m\u001b[38;5;241;43m15\u001b[39;49m\u001b[43m]\u001b[49m)\n",
      "\u001b[1;31mIndexError\u001b[0m: list index out of range"
     ]
    }
   ],
   "source": [
    "#   -10 -9 -8 -7 -6 -5 -4  -3  -2  -1\n",
    "l = [11,22,33,44,55,76,29,100,102,300]\n",
    "#    0  1  2  3  4  5  6   7   8  9\n",
    "\n",
    "print(l[15])"
   ]
  },
  {
   "cell_type": "code",
   "execution_count": 28,
   "id": "502b9e0b",
   "metadata": {},
   "outputs": [
    {
     "name": "stdout",
     "output_type": "stream",
     "text": [
      "[]\n"
     ]
    }
   ],
   "source": [
    "#   -10 -9 -8 -7 -6 -5 -4  -3  -2  -1\n",
    "l = [11,22,33,44,55,76,29,100,102,300]\n",
    "#    0  1  2  3  4  5  6   7   8  9\n",
    "\n",
    "print(l[15:20])"
   ]
  },
  {
   "cell_type": "code",
   "execution_count": null,
   "id": "31f36760",
   "metadata": {},
   "outputs": [],
   "source": []
  }
 ],
 "metadata": {
  "kernelspec": {
   "display_name": "Python 3 (ipykernel)",
   "language": "python",
   "name": "python3"
  },
  "language_info": {
   "codemirror_mode": {
    "name": "ipython",
    "version": 3
   },
   "file_extension": ".py",
   "mimetype": "text/x-python",
   "name": "python",
   "nbconvert_exporter": "python",
   "pygments_lexer": "ipython3",
   "version": "3.9.12"
  }
 },
 "nbformat": 4,
 "nbformat_minor": 5
}
