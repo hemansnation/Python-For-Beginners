{
 "cells": [
  {
   "cell_type": "markdown",
   "id": "0100814d",
   "metadata": {},
   "source": [
    "# Practice Questions\n",
    "\n",
    "**Write a program to enter a number from user and check if it is greater than  10 or not.**"
   ]
  },
  {
   "cell_type": "code",
   "execution_count": 3,
   "id": "569ed893",
   "metadata": {},
   "outputs": [
    {
     "name": "stdout",
     "output_type": "stream",
     "text": [
      "Enter a number: 100\n",
      "Greater\n"
     ]
    }
   ],
   "source": [
    "a = int(input(\"Enter a number: \"))\n",
    "\n",
    "if a > 10:\n",
    "    print(\"Greater\")\n",
    "elif a == 10:\n",
    "    print(\"Equal\")\n",
    "else:\n",
    "    print(\"Smaller\")"
   ]
  },
  {
   "cell_type": "markdown",
   "id": "e03427ac",
   "metadata": {},
   "source": [
    "**Write a program to enter 3 numbers from user and print the greater number.**"
   ]
  },
  {
   "cell_type": "code",
   "execution_count": 6,
   "id": "b58eccb6",
   "metadata": {},
   "outputs": [
    {
     "name": "stdout",
     "output_type": "stream",
     "text": [
      "Enter 1st number: 30\n",
      "Enter 2nd number: 20\n",
      "Enter 3rd number: 15\n",
      "Greater = 30\n"
     ]
    }
   ],
   "source": [
    "a = int(input(\"Enter 1st number: \"))\n",
    "b = int(input(\"Enter 2nd number: \"))\n",
    "c = int(input(\"Enter 3rd number: \"))\n",
    "\n",
    "if a >= b:\n",
    "    if a >= c:\n",
    "        print(\"Greater =\", a)\n",
    "    else:\n",
    "        print(\"Greater = \", c)\n",
    "else:\n",
    "    if b >= c:\n",
    "        print(\"Greater=\", b)\n",
    "    else:\n",
    "        print(\"Greater =\", c)"
   ]
  },
  {
   "cell_type": "markdown",
   "id": "20b04617",
   "metadata": {},
   "source": [
    "**Write a program to enter a number between 0 to 9 and print its character format.**"
   ]
  },
  {
   "cell_type": "code",
   "execution_count": 8,
   "id": "8cb4576c",
   "metadata": {},
   "outputs": [
    {
     "name": "stdout",
     "output_type": "stream",
     "text": [
      "Enter a number: 10\n",
      "Incorrect Value\n"
     ]
    }
   ],
   "source": [
    "a = int(input(\"Enter a number: \"))\n",
    "\n",
    "if a == 0:\n",
    "    print(\"Zero\")\n",
    "elif a == 1:\n",
    "    print(\"One\")\n",
    "elif a == 2:\n",
    "    print(\"Two\")\n",
    "elif a == 3:\n",
    "    print(\"Three\")\n",
    "elif a == 4:\n",
    "    print(\"Four\")\n",
    "elif a == 5:\n",
    "    print(\"Five\")\n",
    "elif a == 6:\n",
    "    print(\"Six\")\n",
    "elif a == 7:\n",
    "    print(\"Seven\")\n",
    "elif a == 8:\n",
    "    print(\"Eight\")\n",
    "elif a == 9:\n",
    "    print(\"Nine\")\n",
    "else:\n",
    "    print(\"Incorrect Value\")"
   ]
  },
  {
   "cell_type": "markdown",
   "id": "35d1b036",
   "metadata": {},
   "source": [
    "**Write a program to enter a character from user and check if it is vowel or consonant.**"
   ]
  },
  {
   "cell_type": "code",
   "execution_count": 10,
   "id": "34bc7f26",
   "metadata": {},
   "outputs": [
    {
     "name": "stdout",
     "output_type": "stream",
     "text": [
      "Enter a character: i\n",
      "Vowel\n"
     ]
    }
   ],
   "source": [
    "ch = input(\"Enter a character: \")\n",
    "\n",
    "if ch == 'a':\n",
    "    print(\"Vowel\")\n",
    "elif ch == 'e':\n",
    "    print('Vowel')\n",
    "elif ch == 'i':\n",
    "    print('Vowel')\n",
    "elif ch == 'o':\n",
    "    print('Vowel')\n",
    "elif ch == 'u':\n",
    "    print('Vowel')\n",
    "else:\n",
    "    print(\"Consonant\")"
   ]
  },
  {
   "cell_type": "code",
   "execution_count": 12,
   "id": "f5f97a42",
   "metadata": {},
   "outputs": [
    {
     "name": "stdout",
     "output_type": "stream",
     "text": [
      "Enter a character: z\n",
      "Consonant\n"
     ]
    }
   ],
   "source": [
    "ch = input(\"Enter a character: \")\n",
    "\n",
    "if ch == 'a' or ch == 'e' or ch == 'i' or ch == 'o' or ch == 'u':\n",
    "    print(\"Vowel\")\n",
    "else:\n",
    "    print(\"Consonant\")"
   ]
  },
  {
   "cell_type": "code",
   "execution_count": null,
   "id": "e17448e0",
   "metadata": {},
   "outputs": [],
   "source": []
  }
 ],
 "metadata": {
  "kernelspec": {
   "display_name": "Python 3 (ipykernel)",
   "language": "python",
   "name": "python3"
  },
  "language_info": {
   "codemirror_mode": {
    "name": "ipython",
    "version": 3
   },
   "file_extension": ".py",
   "mimetype": "text/x-python",
   "name": "python",
   "nbconvert_exporter": "python",
   "pygments_lexer": "ipython3",
   "version": "3.9.12"
  }
 },
 "nbformat": 4,
 "nbformat_minor": 5
}
