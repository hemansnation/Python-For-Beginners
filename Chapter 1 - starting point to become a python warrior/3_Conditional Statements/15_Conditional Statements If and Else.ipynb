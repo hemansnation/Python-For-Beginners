{
 "cells": [
  {
   "cell_type": "markdown",
   "id": "3323d39d",
   "metadata": {},
   "source": [
    "# Conditional Statements If and Else"
   ]
  },
  {
   "cell_type": "code",
   "execution_count": 1,
   "id": "f2ef8862",
   "metadata": {},
   "outputs": [
    {
     "name": "stdout",
     "output_type": "stream",
     "text": [
      "Hello\n"
     ]
    }
   ],
   "source": [
    "a = 10\n",
    "\n",
    "if (a > 5):\n",
    "    print(\"Hello\")"
   ]
  },
  {
   "cell_type": "code",
   "execution_count": 2,
   "id": "5acd583f",
   "metadata": {},
   "outputs": [],
   "source": [
    "a = 20\n",
    "\n",
    "if 20 == 10:\n",
    "    print(\"Hi\")"
   ]
  },
  {
   "cell_type": "code",
   "execution_count": 4,
   "id": "87b4a96f",
   "metadata": {},
   "outputs": [
    {
     "name": "stdout",
     "output_type": "stream",
     "text": [
      "Enter your pin:1234\n",
      "Here is your cash\n"
     ]
    }
   ],
   "source": [
    "pin = 1234\n",
    "get_pin = int(input(\"Enter your pin:\"))\n",
    "\n",
    "if get_pin == pin:\n",
    "    print(\"Here is your cash\")\n",
    "else:\n",
    "    print(\"Your pin is incorrect\")"
   ]
  },
  {
   "cell_type": "code",
   "execution_count": 5,
   "id": "e94777f8",
   "metadata": {},
   "outputs": [
    {
     "ename": "SyntaxError",
     "evalue": "invalid syntax (4061035225.py, line 1)",
     "output_type": "error",
     "traceback": [
      "\u001b[1;36m  Input \u001b[1;32mIn [5]\u001b[1;36m\u001b[0m\n\u001b[1;33m    else:\u001b[0m\n\u001b[1;37m    ^\u001b[0m\n\u001b[1;31mSyntaxError\u001b[0m\u001b[1;31m:\u001b[0m invalid syntax\n"
     ]
    }
   ],
   "source": [
    "else:\n",
    "    print(\"Hi\")"
   ]
  },
  {
   "cell_type": "markdown",
   "id": "7707107e",
   "metadata": {},
   "source": [
    "#### Write a program to enter a number from user and print its absolute value?"
   ]
  },
  {
   "cell_type": "code",
   "execution_count": null,
   "id": "9f18c617",
   "metadata": {},
   "outputs": [],
   "source": [
    "__________._____________\n",
    " -4 -2 -1 0  1  2 3  4\n",
    "    \n",
    "|-2| = 2\n",
    "\n",
    "|-4| = 4"
   ]
  },
  {
   "cell_type": "code",
   "execution_count": 7,
   "id": "780a4b6b",
   "metadata": {},
   "outputs": [
    {
     "name": "stdout",
     "output_type": "stream",
     "text": [
      "Enter a number:-7\n",
      "Absolute value = 7\n"
     ]
    }
   ],
   "source": [
    "n = int(input(\"Enter a number:\"))\n",
    "\n",
    "if n >= 0:\n",
    "    print(\"Absolute value =\", n)\n",
    "else:\n",
    "    print(\"Absolute value =\", n * (-1))"
   ]
  },
  {
   "cell_type": "code",
   "execution_count": null,
   "id": "4d599d36",
   "metadata": {},
   "outputs": [],
   "source": []
  }
 ],
 "metadata": {
  "kernelspec": {
   "display_name": "Python 3 (ipykernel)",
   "language": "python",
   "name": "python3"
  },
  "language_info": {
   "codemirror_mode": {
    "name": "ipython",
    "version": 3
   },
   "file_extension": ".py",
   "mimetype": "text/x-python",
   "name": "python",
   "nbconvert_exporter": "python",
   "pygments_lexer": "ipython3",
   "version": "3.9.12"
  }
 },
 "nbformat": 4,
 "nbformat_minor": 5
}
