{
 "cells": [
  {
   "cell_type": "markdown",
   "id": "e728d762",
   "metadata": {},
   "source": [
    "# Nested If and Else\n",
    "\n",
    "Watch the video in 1.5x speed for better experience.\n"
   ]
  },
  {
   "cell_type": "code",
   "execution_count": null,
   "id": "a6b91eac",
   "metadata": {},
   "outputs": [],
   "source": [
    "a = int(input(\"Enter a number: \"))\n",
    "\n",
    "if a > 5:\n",
    "    print(1)\n",
    "    if a > 8:\n",
    "        print(2)\n",
    "    else:\n",
    "        print(3)\n",
    "        if a == 9:\n",
    "            print(4)\n",
    "        elif a == 10:\n",
    "            print(5)\n",
    "        else:\n",
    "            print(6)\n",
    "else:\n",
    "    print(7)\n",
    "    if a == 1:\n",
    "        print(8)"
   ]
  },
  {
   "cell_type": "code",
   "execution_count": null,
   "id": "6ee2a09e",
   "metadata": {},
   "outputs": [],
   "source": []
  }
 ],
 "metadata": {
  "kernelspec": {
   "display_name": "Python 3 (ipykernel)",
   "language": "python",
   "name": "python3"
  },
  "language_info": {
   "codemirror_mode": {
    "name": "ipython",
    "version": 3
   },
   "file_extension": ".py",
   "mimetype": "text/x-python",
   "name": "python",
   "nbconvert_exporter": "python",
   "pygments_lexer": "ipython3",
   "version": "3.9.12"
  }
 },
 "nbformat": 4,
 "nbformat_minor": 5
}
