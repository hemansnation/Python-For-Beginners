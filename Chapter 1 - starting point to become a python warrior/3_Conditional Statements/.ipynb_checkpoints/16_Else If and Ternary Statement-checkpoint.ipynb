{
 "cells": [
  {
   "cell_type": "markdown",
   "id": "c4c94474",
   "metadata": {},
   "source": [
    "# Else If and Ternary Statement\n",
    "\n",
    "Watch the video in 1.5x speed for better experience.\n"
   ]
  },
  {
   "cell_type": "code",
   "execution_count": 1,
   "id": "760a991c",
   "metadata": {},
   "outputs": [
    {
     "name": "stdout",
     "output_type": "stream",
     "text": [
      "1\n"
     ]
    }
   ],
   "source": [
    "a = 10\n",
    "\n",
    "if a > 5:\n",
    "    print(1)\n",
    "elif a == 10:\n",
    "    print(2)\n",
    "else:\n",
    "    print(3)"
   ]
  },
  {
   "cell_type": "code",
   "execution_count": 2,
   "id": "691ebee4",
   "metadata": {},
   "outputs": [
    {
     "name": "stdout",
     "output_type": "stream",
     "text": [
      "2\n"
     ]
    }
   ],
   "source": [
    "a = 10\n",
    "\n",
    "if a < 5:\n",
    "    print(1)\n",
    "elif a == 10:\n",
    "    print(2)\n",
    "else:\n",
    "    print(3)"
   ]
  },
  {
   "cell_type": "code",
   "execution_count": 3,
   "id": "0395fc89",
   "metadata": {},
   "outputs": [
    {
     "name": "stdout",
     "output_type": "stream",
     "text": [
      "1\n"
     ]
    }
   ],
   "source": [
    "a = 10\n",
    "\n",
    "if a > 5:\n",
    "    print(1)\n",
    "elif a == 10:\n",
    "    print(2)\n",
    "else:\n",
    "    print(3)"
   ]
  },
  {
   "cell_type": "code",
   "execution_count": 4,
   "id": "7a0ab06f",
   "metadata": {},
   "outputs": [
    {
     "name": "stdout",
     "output_type": "stream",
     "text": [
      "3\n"
     ]
    }
   ],
   "source": [
    "a = 11\n",
    "\n",
    "if a > 15:\n",
    "    print(1)\n",
    "elif a == 10:\n",
    "    print(2)\n",
    "else:\n",
    "    print(3)"
   ]
  },
  {
   "cell_type": "code",
   "execution_count": 5,
   "id": "81ead700",
   "metadata": {},
   "outputs": [
    {
     "name": "stdout",
     "output_type": "stream",
     "text": [
      "3\n"
     ]
    }
   ],
   "source": [
    "a = 11\n",
    "\n",
    "if a > 15:\n",
    "    print(1)\n",
    "elif a == 10:\n",
    "    print(2)\n",
    "elif a == 5:\n",
    "    print(4)\n",
    "else:\n",
    "    print(3)"
   ]
  },
  {
   "cell_type": "markdown",
   "id": "86feb0d5",
   "metadata": {},
   "source": [
    "### Ternary Statements"
   ]
  },
  {
   "cell_type": "code",
   "execution_count": null,
   "id": "0fabd1dc",
   "metadata": {},
   "outputs": [],
   "source": [
    "? :  "
   ]
  },
  {
   "cell_type": "code",
   "execution_count": 6,
   "id": "1dc39970",
   "metadata": {},
   "outputs": [
    {
     "name": "stdout",
     "output_type": "stream",
     "text": [
      "45\n"
     ]
    }
   ],
   "source": [
    "a = 10\n",
    "\n",
    "b = 45 if a > 5 else 100\n",
    "\n",
    "print(b)"
   ]
  },
  {
   "cell_type": "code",
   "execution_count": 7,
   "id": "c28c32e2",
   "metadata": {},
   "outputs": [
    {
     "name": "stdout",
     "output_type": "stream",
     "text": [
      "100\n"
     ]
    }
   ],
   "source": [
    "a = 10\n",
    "\n",
    "b = 45 if a > 15 else 100\n",
    "\n",
    "print(b)"
   ]
  },
  {
   "cell_type": "code",
   "execution_count": null,
   "id": "a331608c",
   "metadata": {},
   "outputs": [],
   "source": []
  }
 ],
 "metadata": {
  "kernelspec": {
   "display_name": "Python 3 (ipykernel)",
   "language": "python",
   "name": "python3"
  },
  "language_info": {
   "codemirror_mode": {
    "name": "ipython",
    "version": 3
   },
   "file_extension": ".py",
   "mimetype": "text/x-python",
   "name": "python",
   "nbconvert_exporter": "python",
   "pygments_lexer": "ipython3",
   "version": "3.9.12"
  }
 },
 "nbformat": 4,
 "nbformat_minor": 5
}
