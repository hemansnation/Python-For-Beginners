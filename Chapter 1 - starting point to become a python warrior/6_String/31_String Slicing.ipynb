{
 "cells": [
  {
   "cell_type": "markdown",
   "id": "a4def3de",
   "metadata": {},
   "source": [
    "# String Slicing\n",
    "\n",
    "Watch the video at 1.5x speed for better experience."
   ]
  },
  {
   "cell_type": "code",
   "execution_count": 1,
   "id": "9bebb0c0",
   "metadata": {},
   "outputs": [
    {
     "name": "stdout",
     "output_type": "stream",
     "text": [
      "c\n"
     ]
    }
   ],
   "source": [
    "s = \"communication\"\n",
    "#    0123456789\n",
    "\n",
    "print(s[0])"
   ]
  },
  {
   "cell_type": "code",
   "execution_count": 2,
   "id": "145895a6",
   "metadata": {},
   "outputs": [
    {
     "name": "stdout",
     "output_type": "stream",
     "text": [
      "comm\n"
     ]
    }
   ],
   "source": [
    "print(s[0:4])"
   ]
  },
  {
   "cell_type": "code",
   "execution_count": 3,
   "id": "7a5d2488",
   "metadata": {},
   "outputs": [
    {
     "name": "stdout",
     "output_type": "stream",
     "text": [
      "mmunic\n"
     ]
    }
   ],
   "source": [
    "print(s[2:8])"
   ]
  },
  {
   "cell_type": "code",
   "execution_count": 4,
   "id": "a808f7ff",
   "metadata": {},
   "outputs": [
    {
     "name": "stdout",
     "output_type": "stream",
     "text": [
      "\n"
     ]
    }
   ],
   "source": [
    "print(s[4:1])"
   ]
  },
  {
   "cell_type": "code",
   "execution_count": 5,
   "id": "4a47cde8",
   "metadata": {},
   "outputs": [
    {
     "data": {
      "text/plain": [
       "''"
      ]
     },
     "execution_count": 5,
     "metadata": {},
     "output_type": "execute_result"
    }
   ],
   "source": [
    "s[4:1]"
   ]
  },
  {
   "cell_type": "code",
   "execution_count": 6,
   "id": "516f7dcd",
   "metadata": {},
   "outputs": [
    {
     "name": "stdout",
     "output_type": "stream",
     "text": [
      "True\n",
      "False\n"
     ]
    }
   ],
   "source": [
    "a = \" \" # -> 32\n",
    "\n",
    "b = \"\"\n",
    "\n",
    "print(bool(a))\n",
    "\n",
    "print(bool(b))"
   ]
  },
  {
   "cell_type": "code",
   "execution_count": 7,
   "id": "f1dd6671",
   "metadata": {},
   "outputs": [
    {
     "name": "stdout",
     "output_type": "stream",
     "text": [
      "<class 'str'>\n",
      "<class 'str'>\n"
     ]
    }
   ],
   "source": [
    "print(type(a))\n",
    "\n",
    "print(type(b))"
   ]
  },
  {
   "cell_type": "code",
   "execution_count": 8,
   "id": "eee6e94c",
   "metadata": {},
   "outputs": [
    {
     "name": "stdout",
     "output_type": "stream",
     "text": [
      "cmuiain\n"
     ]
    }
   ],
   "source": [
    "s = \"communication\"\n",
    "#    0123456789\n",
    "\n",
    "print(s[::2])  # start : end : steps"
   ]
  },
  {
   "cell_type": "code",
   "execution_count": 9,
   "id": "25ad503f",
   "metadata": {},
   "outputs": [
    {
     "name": "stdout",
     "output_type": "stream",
     "text": [
      "noitacinummoc\n"
     ]
    }
   ],
   "source": [
    "print(s[::-1])"
   ]
  },
  {
   "cell_type": "code",
   "execution_count": 10,
   "id": "d94c6eef",
   "metadata": {},
   "outputs": [
    {
     "name": "stdout",
     "output_type": "stream",
     "text": [
      "niaiumc\n"
     ]
    }
   ],
   "source": [
    "print(s[::-2])"
   ]
  },
  {
   "cell_type": "code",
   "execution_count": 11,
   "id": "c948db64",
   "metadata": {},
   "outputs": [
    {
     "data": {
      "text/plain": [
       "'communication'"
      ]
     },
     "execution_count": 11,
     "metadata": {},
     "output_type": "execute_result"
    }
   ],
   "source": [
    "s   # immutable"
   ]
  },
  {
   "cell_type": "code",
   "execution_count": 12,
   "id": "9e6ac8ef",
   "metadata": {},
   "outputs": [
    {
     "name": "stdout",
     "output_type": "stream",
     "text": [
      "umm\n"
     ]
    }
   ],
   "source": [
    "print(s[4:1:-1])"
   ]
  },
  {
   "cell_type": "code",
   "execution_count": 13,
   "id": "67be0a62",
   "metadata": {},
   "outputs": [
    {
     "name": "stdout",
     "output_type": "stream",
     "text": [
      "ommunication\n"
     ]
    }
   ],
   "source": [
    "print(s[1:55:])"
   ]
  },
  {
   "cell_type": "code",
   "execution_count": 14,
   "id": "fbac2f2e",
   "metadata": {},
   "outputs": [
    {
     "name": "stdout",
     "output_type": "stream",
     "text": [
      "noitacinumm\n"
     ]
    }
   ],
   "source": [
    "print(s[55:1:-1])"
   ]
  },
  {
   "cell_type": "code",
   "execution_count": 15,
   "id": "d17f3cac",
   "metadata": {},
   "outputs": [
    {
     "ename": "ValueError",
     "evalue": "slice step cannot be zero",
     "output_type": "error",
     "traceback": [
      "\u001b[1;31m---------------------------------------------------------------------------\u001b[0m",
      "\u001b[1;31mValueError\u001b[0m                                Traceback (most recent call last)",
      "Input \u001b[1;32mIn [15]\u001b[0m, in \u001b[0;36m<cell line: 1>\u001b[1;34m()\u001b[0m\n\u001b[1;32m----> 1\u001b[0m \u001b[38;5;28mprint\u001b[39m(\u001b[43ms\u001b[49m\u001b[43m[\u001b[49m\u001b[43m:\u001b[49m\u001b[43m:\u001b[49m\u001b[38;5;241;43m0\u001b[39;49m\u001b[43m]\u001b[49m)\n",
      "\u001b[1;31mValueError\u001b[0m: slice step cannot be zero"
     ]
    }
   ],
   "source": [
    "print(s[::0])"
   ]
  },
  {
   "cell_type": "code",
   "execution_count": null,
   "id": "9923dbec",
   "metadata": {},
   "outputs": [],
   "source": []
  }
 ],
 "metadata": {
  "kernelspec": {
   "display_name": "Python 3 (ipykernel)",
   "language": "python",
   "name": "python3"
  },
  "language_info": {
   "codemirror_mode": {
    "name": "ipython",
    "version": 3
   },
   "file_extension": ".py",
   "mimetype": "text/x-python",
   "name": "python",
   "nbconvert_exporter": "python",
   "pygments_lexer": "ipython3",
   "version": "3.9.12"
  }
 },
 "nbformat": 4,
 "nbformat_minor": 5
}
