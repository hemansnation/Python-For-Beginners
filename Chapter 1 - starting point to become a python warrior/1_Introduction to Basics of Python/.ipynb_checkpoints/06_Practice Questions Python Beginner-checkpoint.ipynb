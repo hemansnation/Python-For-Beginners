{
 "cells": [
  {
   "cell_type": "markdown",
   "id": "ddc51377",
   "metadata": {},
   "source": [
    "# Practice Questions\n",
    "\n",
    "**1 | Write a program to enter 2 numbers from user and print addition, subtraction, multiplication and division of them.**"
   ]
  },
  {
   "cell_type": "code",
   "execution_count": 1,
   "id": "01f34b9a",
   "metadata": {},
   "outputs": [
    {
     "name": "stdout",
     "output_type": "stream",
     "text": [
      "Enter a number: 10\n",
      "Enter a number: 20\n",
      "Addition = 30\n",
      "Subtraction = -10\n",
      "Multiplication = 200\n",
      "Division = 0.5\n"
     ]
    }
   ],
   "source": [
    "a = int(input(\"Enter a number: \"))\n",
    "b = int(input(\"Enter a number: \"))\n",
    "\n",
    "c = a + b\n",
    "print(\"Addition =\", c)\n",
    "\n",
    "c = a - b\n",
    "print(\"Subtraction =\", c)\n",
    "\n",
    "c = a * b\n",
    "print(\"Multiplication =\", c)\n",
    "\n",
    "c = a / b\n",
    "print(\"Division =\", c)"
   ]
  },
  {
   "cell_type": "markdown",
   "id": "5819ca25",
   "metadata": {},
   "source": [
    "**2 | Write a program to enter length of a square and print area of it.**"
   ]
  },
  {
   "cell_type": "code",
   "execution_count": 5,
   "id": "81f94ab4",
   "metadata": {},
   "outputs": [
    {
     "name": "stdout",
     "output_type": "stream",
     "text": [
      "Enter length of the square side:4\n",
      "Area of square= 16\n"
     ]
    }
   ],
   "source": [
    "x = int(input(\"Enter length of the square side:\"))\n",
    "\n",
    "area = x * x   # x ** 2 \n",
    "\n",
    "print(\"Area of square=\", area)"
   ]
  },
  {
   "cell_type": "markdown",
   "id": "a705ca10",
   "metadata": {},
   "source": [
    "**3 | Write a program to enter radius of a circle from user and print area of it.**"
   ]
  },
  {
   "cell_type": "code",
   "execution_count": 7,
   "id": "90f42901",
   "metadata": {},
   "outputs": [
    {
     "name": "stdout",
     "output_type": "stream",
     "text": [
      "Enter radius: 2\n",
      "Area of circle = 12.56\n"
     ]
    }
   ],
   "source": [
    "r = float(input(\"Enter radius: \"))\n",
    "\n",
    "pi = 3.14\n",
    "\n",
    "area = pi * r * r\n",
    "\n",
    "print(\"Area of circle =\", area)"
   ]
  },
  {
   "cell_type": "markdown",
   "id": "97fba734",
   "metadata": {},
   "source": [
    "**4 | Write a program to enter the name from user and greet them.**"
   ]
  },
  {
   "cell_type": "code",
   "execution_count": 8,
   "id": "3e063e96",
   "metadata": {},
   "outputs": [
    {
     "name": "stdout",
     "output_type": "stream",
     "text": [
      "Enter your name: Himanshu\n",
      "Hello, How are you?  Himanshu\n"
     ]
    }
   ],
   "source": [
    "name = input(\"Enter your name: \")\n",
    "\n",
    "print(\"Hello, How are you? \", name)"
   ]
  },
  {
   "cell_type": "markdown",
   "id": "74fac927",
   "metadata": {},
   "source": [
    "**5 | Write a program to print the following stairs**"
   ]
  },
  {
   "cell_type": "code",
   "execution_count": null,
   "id": "f758ca36",
   "metadata": {},
   "outputs": [],
   "source": [
    "_\n",
    " |_\n",
    "   |_\n",
    "     |"
   ]
  },
  {
   "cell_type": "code",
   "execution_count": 12,
   "id": "2980c676",
   "metadata": {},
   "outputs": [
    {
     "name": "stdout",
     "output_type": "stream",
     "text": [
      "_\n",
      " |_\n",
      "   |_\n",
      "     |\n"
     ]
    }
   ],
   "source": [
    "print(\"_\\n |_\\n   |_\\n     |\")"
   ]
  },
  {
   "cell_type": "code",
   "execution_count": null,
   "id": "a9f477f0",
   "metadata": {},
   "outputs": [],
   "source": []
  }
 ],
 "metadata": {
  "kernelspec": {
   "display_name": "Python 3 (ipykernel)",
   "language": "python",
   "name": "python3"
  },
  "language_info": {
   "codemirror_mode": {
    "name": "ipython",
    "version": 3
   },
   "file_extension": ".py",
   "mimetype": "text/x-python",
   "name": "python",
   "nbconvert_exporter": "python",
   "pygments_lexer": "ipython3",
   "version": "3.9.12"
  }
 },
 "nbformat": 4,
 "nbformat_minor": 5
}
