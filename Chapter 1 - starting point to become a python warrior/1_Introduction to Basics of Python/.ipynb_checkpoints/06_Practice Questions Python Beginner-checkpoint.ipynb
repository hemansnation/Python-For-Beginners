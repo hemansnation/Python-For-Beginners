{
 "cells": [
  {
   "cell_type": "markdown",
   "id": "ddc51377",
   "metadata": {},
   "source": [
    "# Practice Questions\n",
    "\n",
    "**1 | Write a program to enter 2 numbers from user and print addition, substraction, multiplication and division of them.**"
   ]
  },
  {
   "cell_type": "code",
   "execution_count": null,
   "id": "01f34b9a",
   "metadata": {},
   "outputs": [],
   "source": []
  },
  {
   "cell_type": "markdown",
   "id": "5819ca25",
   "metadata": {},
   "source": [
    "**2 | Write a program to enter length of a square and print area of it.**"
   ]
  },
  {
   "cell_type": "code",
   "execution_count": null,
   "id": "81f94ab4",
   "metadata": {},
   "outputs": [],
   "source": []
  },
  {
   "cell_type": "markdown",
   "id": "a705ca10",
   "metadata": {},
   "source": [
    "**3 | Write a program to enter radius of a circle from user and print area of it.**"
   ]
  },
  {
   "cell_type": "code",
   "execution_count": null,
   "id": "90f42901",
   "metadata": {},
   "outputs": [],
   "source": []
  },
  {
   "cell_type": "markdown",
   "id": "97fba734",
   "metadata": {},
   "source": [
    "**4 | Write a program to **"
   ]
  }
 ],
 "metadata": {
  "kernelspec": {
   "display_name": "Python 3 (ipykernel)",
   "language": "python",
   "name": "python3"
  },
  "language_info": {
   "codemirror_mode": {
    "name": "ipython",
    "version": 3
   },
   "file_extension": ".py",
   "mimetype": "text/x-python",
   "name": "python",
   "nbconvert_exporter": "python",
   "pygments_lexer": "ipython3",
   "version": "3.9.12"
  }
 },
 "nbformat": 4,
 "nbformat_minor": 5
}
